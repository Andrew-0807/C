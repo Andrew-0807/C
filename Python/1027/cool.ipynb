{
 "cells": [
  {
   "attachments": {},
   "cell_type": "markdown",
   "metadata": {},
   "source": [
    "# firt sile"
   ]
  },
  {
   "cell_type": "code",
   "execution_count": 401,
   "metadata": {},
   "outputs": [],
   "source": [
    "with open(\"cool.in\",\"r\") as fileRead:\n",
    "    p = int(fileRead.readline())\n",
    "    nk = [fileRead.readline()]\n",
    "    # nk.pop(0)\n",
    "    nk = nk[0].split(\" \")\n",
    "    nk[1] = nk[1].split('\\n')\n",
    "    nk[1]= nk[1][0]\n",
    "    nk = [int(n) for n in nk]\n",
    "    vector = fileRead.readline()\n",
    "    vector = vector.split()\n",
    "    vector = [int(n) for n in vector]\n",
    "   \n"
   ]
  },
  {
   "cell_type": "code",
   "execution_count": 402,
   "metadata": {},
   "outputs": [
    {
     "name": "stdout",
     "output_type": "stream",
     "text": [
      "[[4, 5, 6, 7], [4, 5, 7, 8], [3, 5, 7, 8], [3, 5, 7, 8]]\n",
      "answer is 7\n"
     ]
    }
   ],
   "source": [
    "coolLists = []\n",
    "while nk[0]-nk[1]>0:\n",
    "    coolList = []\n",
    "    try:\n",
    "        for elem in range(0,nk[1]):\n",
    "            # print(elem)\n",
    "            coolList.append(vector[elem])\n",
    "    except IndexError:\n",
    "        coolList.insert(0,lastelem)\n",
    "    if(len(coolList)<nk[1]):\n",
    "        break\n",
    "    coolLists.append(sorted(coolList))\n",
    "    # print(coolLists)\n",
    "    lastelem = vector[0]\n",
    "    vector.pop(0)\n",
    "coolLists.pop()\n",
    "\n",
    "\n",
    "print(coolLists)\n",
    "\n",
    "\n",
    "# # Who is cool\n",
    "\n",
    "\n",
    "iscool = True\n",
    "dif = 1\n",
    "maxi = 0\n",
    "for list in coolLists:\n",
    "    counter=[]\n",
    "    for elem in range(1,nk[1]):\n",
    "        if (list[elem-1]!=list[elem]-1):\n",
    "            iscool = False\n",
    "            counter.append(list.count(list[elem]))\n",
    "    \n",
    "    if iscool==True:\n",
    "        maxi = max(list)\n",
    "        break\n",
    "    else: \n",
    "        print( counter)\n",
    "        for item in counter:\n",
    "            if item < 2:\n",
    "                dif+=1\n",
    "\n",
    "if(iscool):\n",
    "    answer = maxi\n",
    "elif (iscool==False):\n",
    "    answer = dif\n",
    "\n",
    "print(f\"answer is {answer}\")\n"
   ]
  },
  {
   "attachments": {},
   "cell_type": "markdown",
   "metadata": {},
   "source": [
    "# Get coolLists"
   ]
  },
  {
   "cell_type": "code",
   "execution_count": 261,
   "metadata": {},
   "outputs": [
    {
     "data": {
      "text/plain": [
       "[2, 3, 4, 7]"
      ]
     },
     "execution_count": 261,
     "metadata": {},
     "output_type": "execute_result"
    }
   ],
   "source": [
    "\n",
    "coolLists = []\n",
    "while nk[0]-nk[1]>0:\n",
    "    coolList = []\n",
    "    try:\n",
    "        for elem in range(0,nk[1]):\n",
    "            # print(elem)\n",
    "            coolList.append(vector[elem])\n",
    "    except IndexError:\n",
    "        coolList.insert(0,lastelem)\n",
    "    if(len(coolList)<nk[1]):\n",
    "        break\n",
    "        \n",
    "        \n",
    "    coolLists.append(sorted(coolList))\n",
    "    # print(coolLists)\n",
    "    lastelem = vector[0]\n",
    "    vector.pop(0)\n",
    "coolLists.pop()"
   ]
  },
  {
   "cell_type": "code",
   "execution_count": 262,
   "metadata": {},
   "outputs": [
    {
     "name": "stdout",
     "output_type": "stream",
     "text": [
      "[[4, 5, 6, 7], [4, 5, 6, 8], [4, 5, 6, 8], [4, 5, 6, 8], [4, 5, 7, 8], [4, 4, 5, 7], [3, 4, 5, 7], [2, 3, 4, 7]]\n"
     ]
    }
   ],
   "source": [
    "print(coolLists)"
   ]
  },
  {
   "attachments": {},
   "cell_type": "markdown",
   "metadata": {},
   "source": [
    "# Who is cool"
   ]
  },
  {
   "cell_type": "code",
   "execution_count": 263,
   "metadata": {},
   "outputs": [],
   "source": [
    "iscool = True\n",
    "dif = 0\n",
    "maxi = 0\n",
    "nrcool = 0\n",
    "for list in coolLists:\n",
    "    for elem in range(1,nk[1]):\n",
    "        if (list[elem-1]!=list[elem]-1):\n",
    "            iscool = False\n",
    "            counter = list.count(list[elem])\n",
    "    if iscool==True:\n",
    "        maxi = max(list)\n",
    "        nrcool =+ 1\n",
    "    elif counter == 1:\n",
    "        dif+=1\n"
   ]
  },
  {
   "cell_type": "code",
   "execution_count": 264,
   "metadata": {},
   "outputs": [
    {
     "name": "stdout",
     "output_type": "stream",
     "text": [
      "7\n"
     ]
    }
   ],
   "source": [
    "print(maxi)"
   ]
  },
  {
   "cell_type": "code",
   "execution_count": 265,
   "metadata": {},
   "outputs": [
    {
     "name": "stdout",
     "output_type": "stream",
     "text": [
      "7\n"
     ]
    }
   ],
   "source": [
    "print(dif)"
   ]
  },
  {
   "cell_type": "code",
   "execution_count": 266,
   "metadata": {},
   "outputs": [],
   "source": [
    "if (p == 1):\n",
    "    if(nrcool==1):\n",
    "        answer = maxi\n",
    "    elif (nrcool==0):\n",
    "        answer = dif\n"
   ]
  },
  {
   "attachments": {},
   "cell_type": "markdown",
   "metadata": {},
   "source": [
    "# 2"
   ]
  },
  {
   "cell_type": "code",
   "execution_count": 306,
   "metadata": {},
   "outputs": [
    {
     "name": "stdout",
     "output_type": "stream",
     "text": [
      "[7, 4, 5, 6, 8, 4, 5, 7, 4, 3, 2]\n"
     ]
    }
   ],
   "source": [
    "print(vector)"
   ]
  },
  {
   "cell_type": "code",
   "execution_count": 307,
   "metadata": {},
   "outputs": [],
   "source": [
    "subLists = []\n",
    "for size in range(1,len(vector)):\n",
    "# Split a given list to multiple lists of size 4 each\n",
    "    subLists.append([vector[ 0 : i + size] for i in range(0, len(vector), size)])\n",
    "\n"
   ]
  },
  {
   "cell_type": "code",
   "execution_count": 308,
   "metadata": {},
   "outputs": [
    {
     "name": "stdout",
     "output_type": "stream",
     "text": [
      "[[[7], [7, 4], [7, 4, 5], [7, 4, 5, 6], [7, 4, 5, 6, 8], [7, 4, 5, 6, 8, 4], [7, 4, 5, 6, 8, 4, 5], [7, 4, 5, 6, 8, 4, 5, 7], [7, 4, 5, 6, 8, 4, 5, 7, 4], [7, 4, 5, 6, 8, 4, 5, 7, 4, 3], [7, 4, 5, 6, 8, 4, 5, 7, 4, 3, 2]], [[7, 4], [7, 4, 5, 6], [7, 4, 5, 6, 8, 4], [7, 4, 5, 6, 8, 4, 5, 7], [7, 4, 5, 6, 8, 4, 5, 7, 4, 3], [7, 4, 5, 6, 8, 4, 5, 7, 4, 3, 2]], [[7, 4, 5], [7, 4, 5, 6, 8, 4], [7, 4, 5, 6, 8, 4, 5, 7, 4], [7, 4, 5, 6, 8, 4, 5, 7, 4, 3, 2]], [[7, 4, 5, 6], [7, 4, 5, 6, 8, 4, 5, 7], [7, 4, 5, 6, 8, 4, 5, 7, 4, 3, 2]], [[7, 4, 5, 6, 8], [7, 4, 5, 6, 8, 4, 5, 7, 4, 3], [7, 4, 5, 6, 8, 4, 5, 7, 4, 3, 2]], [[7, 4, 5, 6, 8, 4], [7, 4, 5, 6, 8, 4, 5, 7, 4, 3, 2]], [[7, 4, 5, 6, 8, 4, 5], [7, 4, 5, 6, 8, 4, 5, 7, 4, 3, 2]], [[7, 4, 5, 6, 8, 4, 5, 7], [7, 4, 5, 6, 8, 4, 5, 7, 4, 3, 2]], [[7, 4, 5, 6, 8, 4, 5, 7, 4], [7, 4, 5, 6, 8, 4, 5, 7, 4, 3, 2]], [[7, 4, 5, 6, 8, 4, 5, 7, 4, 3], [7, 4, 5, 6, 8, 4, 5, 7, 4, 3, 2]]]\n"
     ]
    }
   ],
   "source": [
    "print (subLists)"
   ]
  },
  {
   "cell_type": "code",
   "execution_count": 322,
   "metadata": {},
   "outputs": [],
   "source": [
    "lenght = []\n",
    "for list in subLists:\n",
    "    for item in list:\n",
    "        counter = []\n",
    "        for elem in item:\n",
    "            counter.append(item.count(elem))\n",
    "            # print(elem)\n",
    "        ans = True\n",
    "        # print(counter)\n",
    "        for item in counter:\n",
    "            if item != 1:\n",
    "                ans = False\n",
    "        if ans:\n",
    "            lenght.append(len(counter))\n",
    "        \n",
    "\n",
    "\n",
    "    "
   ]
  },
  {
   "cell_type": "code",
   "execution_count": 326,
   "metadata": {},
   "outputs": [
    {
     "name": "stdout",
     "output_type": "stream",
     "text": [
      "[1, 2, 3, 4, 5, 2, 4, 3, 4, 5]\n",
      "2\n"
     ]
    }
   ],
   "source": [
    "\n",
    "print(lenght)\n",
    "counteroflenghts=(lenght.count(max(lenght)))\n",
    "ans = str(max(lenght))+ \"\\n\"+ str(counteroflenghts)\n"
   ]
  },
  {
   "attachments": {},
   "cell_type": "markdown",
   "metadata": {},
   "source": [
    "# output\n"
   ]
  },
  {
   "cell_type": "code",
   "execution_count": 270,
   "metadata": {},
   "outputs": [],
   "source": [
    "with open(\"cool.out\", \"w\") as fileWrite:\n",
    "    fileWrite.write(str(answer))\n",
    "     "
   ]
  }
 ],
 "metadata": {
  "kernelspec": {
   "display_name": "base",
   "language": "python",
   "name": "python3"
  },
  "language_info": {
   "codemirror_mode": {
    "name": "ipython",
    "version": 3
   },
   "file_extension": ".py",
   "mimetype": "text/x-python",
   "name": "python",
   "nbconvert_exporter": "python",
   "pygments_lexer": "ipython3",
   "version": "3.9.13"
  },
  "orig_nbformat": 4,
  "vscode": {
   "interpreter": {
    "hash": "57bc2b6ce032b5f0e93daa91901b7ea38a856826ef43aa9e95b6d3999f5310df"
   }
  }
 },
 "nbformat": 4,
 "nbformat_minor": 2
}
